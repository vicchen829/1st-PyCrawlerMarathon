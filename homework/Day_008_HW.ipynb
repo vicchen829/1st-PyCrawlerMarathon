{
 "cells": [
  {
   "cell_type": "markdown",
   "metadata": {},
   "source": [
    "# 靜態網頁的資料爬蟲策略\n",
    "了解靜態網頁的資料爬蟲策略    \n",
    "認識適用於靜態網頁爬蟲的相關套件工具：Request    \n",
    "認識適用於靜態網頁爬蟲的相關套件工具：BeatifulSoup    "
   ]
  },
  {
   "cell_type": "markdown",
   "metadata": {},
   "source": [
    "# 網頁資料取得： Requests"
   ]
  },
  {
   "cell_type": "code",
   "execution_count": 1,
   "metadata": {},
   "outputs": [],
   "source": [
    "import requests\n",
    "r=requests.get('https://github.com/timeline.json')\n",
    "response=r.text"
   ]
  },
  {
   "cell_type": "code",
   "execution_count": 2,
   "metadata": {},
   "outputs": [
    {
     "name": "stdout",
     "output_type": "stream",
     "text": [
      "{\"message\":\"Hello there, wayfaring stranger. If you’re reading this then you probably didn’t see our blog post a couple of years back announcing that this API would go away: http://git.io/17AROg Fear not, you should be able to get what you need from the shiny new Events API instead.\",\"documentation_url\":\"https://developer.github.com/v3/activity/events/#list-public-events\"}\n"
     ]
    }
   ],
   "source": [
    "print(response)"
   ]
  },
  {
   "cell_type": "code",
   "execution_count": 5,
   "metadata": {},
   "outputs": [
    {
     "ename": "TypeError",
     "evalue": "string indices must be integers",
     "output_type": "error",
     "traceback": [
      "\u001b[0;31m---------------------------------------------------------------------------\u001b[0m",
      "\u001b[0;31mTypeError\u001b[0m                                 Traceback (most recent call last)",
      "\u001b[0;32m<ipython-input-5-613318a8a5e0>\u001b[0m in \u001b[0;36m<module>\u001b[0;34m\u001b[0m\n\u001b[0;32m----> 1\u001b[0;31m \u001b[0mresponse\u001b[0m\u001b[0;34m[\u001b[0m\u001b[0;34m'message'\u001b[0m\u001b[0;34m]\u001b[0m\u001b[0;34m\u001b[0m\u001b[0;34m\u001b[0m\u001b[0m\n\u001b[0m",
      "\u001b[0;31mTypeError\u001b[0m: string indices must be integers"
     ]
    }
   ],
   "source": [
    "response['message']"
   ]
  },
  {
   "cell_type": "code",
   "execution_count": 9,
   "metadata": {},
   "outputs": [
    {
     "name": "stdout",
     "output_type": "stream",
     "text": [
      "<class 'str'>\n",
      "{\"message\":\"Hello there, wayfaring stranger. If you’re reading this then you probably didn’t see our\n"
     ]
    }
   ],
   "source": [
    "print(type(response))\n",
    "print(response[:100])"
   ]
  },
  {
   "cell_type": "code",
   "execution_count": 10,
   "metadata": {},
   "outputs": [
    {
     "name": "stdout",
     "output_type": "stream",
     "text": [
      "<class 'dict'>\n",
      "Hello there, wayfaring stranger. If you’re reading this then you probably didn’t see our blog post a couple of years back announcing that this API would go away: http://git.io/17AROg Fear not, you should be able to get what you need from the shiny new Events API instead.\n"
     ]
    }
   ],
   "source": [
    "import json\n",
    "response=json.loads(response)\n",
    "print(type(response))\n",
    "print(response['message'])"
   ]
  },
  {
   "cell_type": "markdown",
   "metadata": {},
   "source": [
    "# 網頁解析器： BeatifulSoup"
   ]
  },
  {
   "cell_type": "code",
   "execution_count": 13,
   "metadata": {},
   "outputs": [
    {
     "name": "stdout",
     "output_type": "stream",
     "text": [
      "\n",
      "<html><head><title>The Dormouse's story</title></head>\n",
      "<body>\n",
      "<p class=\"title\"><b>The Dormouse's story</b></p>\n",
      "<p class=\"story\">Once upon a time there were three little sisters; and their names were\n",
      "<a href=\"http://example.com/elsie\" class=\"sister\" id=\"link1\">Elsie</a>,\n",
      "<a href=\"http://example.com/lacie\" class=\"sister\" id=\"link2\">Lacie</a> and\n",
      "<a href=\"http://example.com/tillie\" class=\"sister\" id=\"link3\">Tillie</a>;\n",
      "and they lived at the bottom of a well.</p>\n",
      "<p class=\"story\">...</p>\n",
      "</body>\n",
      "</html>\n",
      "\n",
      "<class 'str'>\n"
     ]
    }
   ],
   "source": [
    "html_doc = \"\"\"\n",
    "<html><head><title>The Dormouse's story</title></head>\n",
    "<body>\n",
    "<p class=\"title\"><b>The Dormouse's story</b></p>\n",
    "<p class=\"story\">Once upon a time there were three little sisters; and their names were\n",
    "<a href=\"http://example.com/elsie\" class=\"sister\" id=\"link1\">Elsie</a>,\n",
    "<a href=\"http://example.com/lacie\" class=\"sister\" id=\"link2\">Lacie</a> and\n",
    "<a href=\"http://example.com/tillie\" class=\"sister\" id=\"link3\">Tillie</a>;\n",
    "and they lived at the bottom of a well.</p>\n",
    "<p class=\"story\">...</p>\n",
    "</body>\n",
    "</html>\n",
    "\"\"\"\n",
    "\n",
    "print(html_doc)\n",
    "print(type(html_doc))"
   ]
  },
  {
   "cell_type": "code",
   "execution_count": 14,
   "metadata": {},
   "outputs": [
    {
     "name": "stdout",
     "output_type": "stream",
     "text": [
      "<html><head><title>The Dormouse's story</title></head>\n",
      "<body>\n",
      "<p class=\"title\"><b>The Dormouse's story</b></p>\n",
      "<p class=\"story\">Once upon a time there were three little sisters; and their names were\n",
      "<a class=\"sister\" href=\"http://example.com/elsie\" id=\"link1\">Elsie</a>,\n",
      "<a class=\"sister\" href=\"http://example.com/lacie\" id=\"link2\">Lacie</a> and\n",
      "<a class=\"sister\" href=\"http://example.com/tillie\" id=\"link3\">Tillie</a>;\n",
      "and they lived at the bottom of a well.</p>\n",
      "<p class=\"story\">...</p>\n",
      "\n",
      "\n",
      "</body></html>\n",
      "<class 'bs4.BeautifulSoup'>\n"
     ]
    }
   ],
   "source": [
    "from bs4 import BeautifulSoup\n",
    "\n",
    "soup=BeautifulSoup(html_doc,'html5lib')\n",
    "print(soup)\n",
    "print(type(soup))"
   ]
  },
  {
   "cell_type": "markdown",
   "metadata": {},
   "source": [
    "# 作業目標\n",
    "利用 Request + BeatifulSoup 爬取下列兩個網站內容並解析：    \n",
    "\n",
    "1. Dcared 網址： https://www.dcard.tw/f\n",
    "2. 知乎： https://www.zhihu.com/explore\n",
    "\n",
    "並且回答下面問題：    \n",
    "\n",
    "1. Request 取回之後該怎麼取出資料，資料型態是什麼？\n",
    "2. 為什麼要使用 BeatifulSoup 處理？處理後的型態是什麼？\n",
    "3. 觀察一下知乎回來的資料好像有點怪怪的，該怎麼解決？"
   ]
  },
  {
   "cell_type": "markdown",
   "metadata": {},
   "source": [
    "# 1. Dcard 網址： https://www.dcard.tw/f"
   ]
  },
  {
   "cell_type": "code",
   "execution_count": 15,
   "metadata": {},
   "outputs": [],
   "source": [
    "import requests\n",
    "from bs4 import BeautifulSoup"
   ]
  },
  {
   "cell_type": "code",
   "execution_count": 37,
   "metadata": {},
   "outputs": [
    {
     "name": "stdout",
     "output_type": "stream",
     "text": [
      "<!DOCTYPE html><html lang=\"zh-Hant-TW\"><head prefix=\"og: http://ogp.me/ns#\" itemscope=\"\" itemType=\"https://schema.org/WebSite\"><title data-react-helmet=\"true\">Dcard</title><meta data-react-helmet=\"true\" property=\"og:image\" content=\"https://www.dcard.tw/build/landing-c9e7b8fb.png\"/><meta data-react-helmet=\"true\" property=\"og:image:secure_url\" content=\"https://www.dcard.tw/build/landing-c9e7b8fb.png\"/><meta data-react-helmet=\"true\" charSet=\"utf-8\"/><meta data-react-helmet=\"true\" http-equiv=\"X-UA-Compatible\" content=\"IE=edge\"/><meta data-react-helmet=\"true\" name=\"application-name\" content=\"Dcard\"/><meta data-react-helmet=\"true\" name=\"apple-itunes-app\" content=\"app-id=951353454\"/><meta data-react-helmet=\"true\" name=\"theme-color\" content=\"#006aa6\"/><meta data-react-helmet=\"true\" name=\"mobile-web-app-capable\" content=\"yes\"/><meta data-react-helmet=\"true\" name=\"apple-mobile-web-app-capable\" content=\"yes\"/><meta data-react-helmet=\"true\" property=\"fb:app_id\" content=\"211628828926493\"/><meta data-react-helmet=\"true\" property=\"fb:pages\" content=\"178875832200695,577748865730563,1333515469994506,619122564952487,804004803032067,178024805867764\"/><meta data-react-helmet=\"true\" property=\"al:ios:app_store_id\" content=\"951353454\"/><meta data-react-helmet=\"true\" property=\"al:ios:app_name\" content=\"Dcard\"/><meta data-react-helmet=\"true\" property=\"al:android:package\" content=\"com.sparkslab.dcardreader\"/><meta data-react-helmet=\"true\" property=\"al:android:app_name\" content=\"Dcard\"/><meta data-react-helmet=\"true\" property=\"og:type\" content=\"website\"/><meta data-react-helmet=\"true\" property=\"og:site_name\" content=\"Dcard\"/><meta data-react-helmet=\"true\" property=\"og:title\" content=\"Dcard\"/><meta data-react-helmet=\"true\" property=\"og:url\" content=\"https://www.dcard.tw/f\"/><meta data-react-helmet=\"true\" name=\"description\" content=\"廣受年輕人喜愛的  Dcard  是台灣最大的匿名交流平台，舉凡時事話題、感情心情、吃喝玩樂、學習工作等，都有卡友陪你聊！\"/><meta data-react-helmet=\"true\" property=\"og:description\" content=\"廣受年輕人喜愛的  Dcard  是台灣最大的匿名交流平台，舉凡時事話題、感情心情、吃喝玩樂、學習工作等，都有卡友陪你聊！\"/><meta data-react-helmet=\"true\" property=\"al:ios:url\" content=\"dcard://category/all/全部/hot\"/><meta data-react-helmet=\"true\" property=\"al:android:url\" content=\"dcard://category/all/全部/hot\"/><link data-react-helmet=\"true\" rel=\"icon\" sizes=\"32x32\" type=\"image/png\" href=\"/build/favicon_32-44259074.png\"/><link data-react-helmet=\"true\" rel=\"icon\" sizes=\"72x72\" type=\"image/png\" href=\"/build/favicon_72-45b1e0ba.png\"/><link data-react-helmet=\"true\" rel=\"icon\" sizes=\"512x512\" type=\"image/png\" href=\"/build/favicon_512-8aee0703.png\"/><link data-react-helmet=\"true\" rel=\"apple-touch-icon-precomposed\" href=\"/build/favicon_144-79557003.png\"/><link data-react-helmet=\"true\" rel=\"apple-touch-icon-precomposed\" href=\"/build/favicon_114-4a463b43.png\"/><link data-react-helmet=\"true\" rel=\"apple-touch-icon-precomposed\" href=\"/build/favicon_72-45b1e0ba.png\"/><link data-react-helmet=\"true\" rel=\"apple-touch-icon-precomposed\" href=\"/build/favicon_57-835f1693.png\"/><link data-react-helm\n"
     ]
    }
   ],
   "source": [
    "url='https://www.dcard.tw/f'\n",
    "r=requests.get(url)\n",
    "r.encoding='utf-8'\n",
    "print(r.text[:3000])"
   ]
  },
  {
   "cell_type": "code",
   "execution_count": 38,
   "metadata": {},
   "outputs": [
    {
     "name": "stdout",
     "output_type": "stream",
     "text": [
      "<class 'str'>\n"
     ]
    }
   ],
   "source": [
    "print(type(r.text))"
   ]
  },
  {
   "cell_type": "code",
   "execution_count": 39,
   "metadata": {},
   "outputs": [
    {
     "data": {
      "text/plain": [
       "<!DOCTYPE html>\n",
       "<html lang=\"zh-Hant-TW\"><head itemscope=\"\" itemtype=\"https://schema.org/WebSite\" prefix=\"og: http://ogp.me/ns#\"><title data-react-helmet=\"true\">Dcard</title><meta content=\"https://www.dcard.tw/build/landing-c9e7b8fb.png\" data-react-helmet=\"true\" property=\"og:image\"/><meta content=\"https://www.dcard.tw/build/landing-c9e7b8fb.png\" data-react-helmet=\"true\" property=\"og:image:secure_url\"/><meta charset=\"utf-8\" data-react-helmet=\"true\"/><meta content=\"IE=edge\" data-react-helmet=\"true\" http-equiv=\"X-UA-Compatible\"/><meta content=\"Dcard\" data-react-helmet=\"true\" name=\"application-name\"/><meta content=\"app-id=951353454\" data-react-helmet=\"true\" name=\"apple-itunes-app\"/><meta content=\"#006aa6\" data-react-helmet=\"true\" name=\"theme-color\"/><meta content=\"yes\" data-react-helmet=\"true\" name=\"mobile-web-app-capable\"/><meta content=\"yes\" data-react-helmet=\"true\" name=\"apple-mobile-web-app-capable\"/><meta content=\"211628828926493\" data-react-helmet=\"true\" property=\"fb:app_id\"/><meta content=\"178875832200695,577748865730563,1333515469994506,619122564952487,804004803032067,178024805867764\" data-react-helmet=\"true\" property=\"fb:pages\"/><meta content=\"951353454\" data-react-helmet=\"true\" property=\"al:ios:app_store_id\"/><meta content=\"Dcard\" data-react-helmet=\"true\" property=\"al:ios:app_name\"/><meta content=\"com.sparkslab.dcardreader\" data-react-helmet=\"true\" property=\"al:android:package\"/><meta content=\"Dcard\" data-react-helmet=\"true\" property=\"al:android:app_name\"/><meta content=\"website\" data-react-helmet=\"true\" property=\"og:type\"/><meta content=\"Dcard\" data-react-helmet=\"true\" property=\"og:site_name\"/><meta content=\"Dcard\" data-react-helmet=\"true\" property=\"og:title\"/><meta content=\"https://www.dcard.tw/f\" data-react-helmet=\"true\" property=\"og:url\"/><meta content=\"廣受年輕人喜愛的  Dcard  是台灣最大的匿名交流平台，舉凡時事話題、感情心情、吃喝玩樂、學習工作等，都有卡友陪你聊！\" data-react-helmet=\"true\" name=\"description\"/><meta content=\"廣受年輕人喜愛的  Dcard  是台灣最大的匿名交流平台，舉凡時事話題、感情心情、吃喝玩樂、學習工作等，都有卡友陪你聊！\" data-react-helmet=\"true\" property=\"og:description\"/><meta content=\"dcard://category/all/全部/hot\" data-react-helmet=\"true\" property=\"al:ios:url\"/><meta content=\"dcard://category/all/全部/hot\" data-react-helmet=\"true\" property=\"al:android:url\"/><link data-react-helmet=\"true\" href=\"/build/favicon_32-44259074.png\" rel=\"icon\" sizes=\"32x32\" type=\"image/png\"/><link data-react-helmet=\"true\" href=\"/build/favicon_72-45b1e0ba.png\" rel=\"icon\" sizes=\"72x72\" type=\"image/png\"/><link data-react-helmet=\"true\" href=\"/build/favicon_512-8aee0703.png\" rel=\"icon\" sizes=\"512x512\" type=\"image/png\"/><link data-react-helmet=\"true\" href=\"/build/favicon_144-79557003.png\" rel=\"apple-touch-icon-precomposed\"/><link data-react-helmet=\"true\" href=\"/build/favicon_114-4a463b43.png\" rel=\"apple-touch-icon-precomposed\"/><link data-react-helmet=\"true\" href=\"/build/favicon_72-45b1e0ba.png\" rel=\"apple-touch-icon-precomposed\"/><link data-react-helmet=\"true\" href=\"/build/favicon_57-835f1693.png\" rel=\"apple-touch-icon-precomposed\"/></head><body></body></html>"
      ]
     },
     "execution_count": 39,
     "metadata": {},
     "output_type": "execute_result"
    }
   ],
   "source": [
    "soup=BeautifulSoup(r.text[:3000],'html5lib')\n",
    "soup"
   ]
  },
  {
   "cell_type": "code",
   "execution_count": 41,
   "metadata": {},
   "outputs": [
    {
     "name": "stdout",
     "output_type": "stream",
     "text": [
      "<class 'bs4.BeautifulSoup'>\n"
     ]
    }
   ],
   "source": [
    "print(type(soup))"
   ]
  },
  {
   "cell_type": "markdown",
   "metadata": {},
   "source": [
    "1. Request 取回之後該怎麼取出資料，資料型態是什麼？\n",
    "    - 用BeautifulSoup\n",
    "    - 原本資料型態是str    \n",
    "2. 為什麼要使用 BeatifulSoup 處理？處理後的型態是什麼？\n",
    "    - 解析HTML、XML⽂件、修復含有未閉合標籤等錯誤的⽂件\n",
    "    - bs4.BeautifulSoup"
   ]
  },
  {
   "cell_type": "markdown",
   "metadata": {},
   "source": [
    "# 2. 知乎： https://www.zhihu.com/explore"
   ]
  },
  {
   "cell_type": "code",
   "execution_count": 42,
   "metadata": {},
   "outputs": [
    {
     "name": "stdout",
     "output_type": "stream",
     "text": [
      "<html>\r\n",
      "<head><title>400 Bad Request</title></head>\r\n",
      "<body bgcolor=\"white\">\r\n",
      "<center><h1>400 Bad Request</h1></center>\r\n",
      "<hr><center>openresty</center>\r\n",
      "</body>\r\n",
      "</html>\r\n",
      "\n"
     ]
    }
   ],
   "source": [
    "url = 'https://www.zhihu.com/explore'\n",
    "r = requests.get(url)\n",
    "r.encoding = 'utf-8'\n",
    "\n",
    "print(r.text[0:600])"
   ]
  },
  {
   "cell_type": "markdown",
   "metadata": {},
   "source": [
    "# 3. 觀察一下知乎回來的資料好像有點怪怪的，該怎麼解決？"
   ]
  },
  {
   "cell_type": "code",
   "execution_count": 47,
   "metadata": {},
   "outputs": [
    {
     "name": "stdout",
     "output_type": "stream",
     "text": [
      "<!doctype html>\n",
      "<html lang=\"zh\" data-hairline=\"true\" data-theme=\"light\"><head><meta charSet=\"utf-8\"/><title data-react-helmet=\"true\">发现 - 知乎</title><meta name=\"viewport\" content=\"width=device-width,initial-scale=1,maximum-scale=1\"/><meta name=\"renderer\" content=\"webkit\"/><meta name=\"force-rendering\" content=\"webkit\"/><meta http-equiv=\"X-UA-Compatible\" content=\"IE=edge,chrome=1\"/><meta name=\"google-site-verification\" content=\"FTeR0c8arOPKh8c5DYh_9uu98_zJbaWw53J-Sch9MTg\"/><meta name=\"description\" property=\"og:description\" content=\"有问题，上知乎。知乎，可信赖的问答社区，以让每个人高效获得可信赖的解答为使命。知乎凭借认真、专业和友善的社区氛围，结构化、易获得的\n"
     ]
    }
   ],
   "source": [
    "import requests\n",
    "url = 'https://www.zhihu.com/explore'\n",
    "\n",
    "headers={'user-agent':'my-app/0.0.1'}\n",
    "\n",
    "r = requests.get(url,headers=headers)\n",
    "\n",
    "r.encoding = 'utf-8'\n",
    "print(r.text[0:600])"
   ]
  },
  {
   "cell_type": "code",
   "execution_count": 48,
   "metadata": {},
   "outputs": [
    {
     "data": {
      "text/plain": [
       "<!DOCTYPE html>\n",
       "<html lang=\"zh-Hant-TW\"><head itemscope=\"\" itemtype=\"https://schema.org/WebSite\" prefix=\"og: http://ogp.me/ns#\"><title data-react-helmet=\"true\">Dcard</title><meta content=\"https://www.dcard.tw/build/landing-c9e7b8fb.png\" data-react-helmet=\"true\" property=\"og:image\"/><meta content=\"https://www.dcard.tw/build/landing-c9e7b8fb.png\" data-react-helmet=\"true\" property=\"og:image:secure_url\"/><meta charset=\"utf-8\" data-react-helmet=\"true\"/><meta content=\"IE=edge\" data-react-helmet=\"true\" http-equiv=\"X-UA-Compatible\"/><meta content=\"Dcard\" data-react-helmet=\"true\" name=\"application-name\"/><meta content=\"app-id=951353454\" data-react-helmet=\"true\" name=\"apple-itunes-app\"/><meta content=\"#006aa6\" data-react-helmet=\"true\" name=\"theme-color\"/><meta content=\"yes\" data-react-helmet=\"true\" name=\"mobile-web-app-capable\"/><meta content=\"yes\" data-react-helmet=\"true\" name=\"apple-mobile-web-app-capable\"/><meta content=\"211628828926493\" data-react-helmet=\"true\" property=\"fb:app_id\"/><meta content=\"178875832200695,577748865730563,1333515469994506,619122564952487,804004803032067,178024805867764\" data-react-helmet=\"true\" property=\"fb:pages\"/><meta content=\"951353454\" data-react-helmet=\"true\" property=\"al:ios:app_store_id\"/><meta content=\"Dcard\" data-react-helmet=\"true\" property=\"al:ios:app_name\"/><meta content=\"com.sparkslab.dcardreader\" data-react-helmet=\"true\" property=\"al:android:package\"/><meta content=\"Dcard\" data-react-helmet=\"true\" property=\"al:android:app_name\"/><meta content=\"website\" data-react-helmet=\"true\" property=\"og:type\"/><meta content=\"Dcard\" data-react-helmet=\"true\" property=\"og:site_name\"/><meta content=\"Dcard\" data-react-helmet=\"true\" property=\"og:title\"/><meta content=\"https://www.dcard.tw/f\" data-react-helmet=\"true\" property=\"og:url\"/><meta content=\"廣受年輕人喜愛的  Dcard  是台灣最大的匿名交流平台，舉凡時事話題、感情心情、吃喝玩樂、學習工作等，都有卡友陪你聊！\" data-react-helmet=\"true\" name=\"description\"/><meta content=\"廣受年輕人喜愛的  Dcard  是台灣最大的匿名交流平台，舉凡時事話題、感情心情、吃喝玩樂、學習工作等，都有卡友陪你聊！\" data-react-helmet=\"true\" property=\"og:description\"/><meta content=\"dcard://category/all/全部/hot\" data-react-helmet=\"true\" property=\"al:ios:url\"/><meta content=\"dcard://category/all/全部/hot\" data-react-helmet=\"true\" property=\"al:android:url\"/><link data-react-helmet=\"true\" href=\"/build/favicon_32-44259074.png\" rel=\"icon\" sizes=\"32x32\" type=\"image/png\"/><link data-react-helmet=\"true\" href=\"/build/favicon_72-45b1e0ba.png\" rel=\"icon\" sizes=\"72x72\" type=\"image/png\"/><link data-react-helmet=\"true\" href=\"/build/favicon_512-8aee0703.png\" rel=\"icon\" sizes=\"512x512\" type=\"image/png\"/><link data-react-helmet=\"true\" href=\"/build/favicon_144-79557003.png\" rel=\"apple-touch-icon-precomposed\"/><link data-react-helmet=\"true\" href=\"/build/favicon_114-4a463b43.png\" rel=\"apple-touch-icon-precomposed\"/><link data-react-helmet=\"true\" href=\"/build/favicon_72-45b1e0ba.png\" rel=\"apple-touch-icon-precomposed\"/><link data-react-helmet=\"true\" href=\"/build/favicon_57-835f1693.png\" rel=\"apple-touch-icon-precomposed\"/></head><body></body></html>"
      ]
     },
     "execution_count": 48,
     "metadata": {},
     "output_type": "execute_result"
    }
   ],
   "source": [
    "soup"
   ]
  }
 ],
 "metadata": {
  "kernelspec": {
   "display_name": "Python 3",
   "language": "python",
   "name": "python3"
  },
  "language_info": {
   "codemirror_mode": {
    "name": "ipython",
    "version": 3
   },
   "file_extension": ".py",
   "mimetype": "text/x-python",
   "name": "python",
   "nbconvert_exporter": "python",
   "pygments_lexer": "ipython3",
   "version": "3.7.4"
  }
 },
 "nbformat": 4,
 "nbformat_minor": 2
}
