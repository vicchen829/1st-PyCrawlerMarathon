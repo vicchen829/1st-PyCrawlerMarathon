{
 "cells": [
  {
   "cell_type": "markdown",
   "metadata": {},
   "source": [
    "# 利用Python下載檔案"
   ]
  },
  {
   "cell_type": "code",
   "execution_count": 1,
   "metadata": {},
   "outputs": [],
   "source": [
    "from urllib.request import urlretrieve"
   ]
  },
  {
   "cell_type": "code",
   "execution_count": 2,
   "metadata": {},
   "outputs": [
    {
     "data": {
      "text/plain": [
       "('./網路爬蟲實戰研習馬拉松_data/2.txt', <http.client.HTTPMessage at 0x108190510>)"
      ]
     },
     "execution_count": 2,
     "metadata": {},
     "output_type": "execute_result"
    }
   ],
   "source": [
    "#將資料下載到“當前資料夾下”，檔名 = 1.txt\n",
    "urlretrieve(\"https://www.w3.org/TR/PNG/iso_8859-1.txt\",\"./1.txt\")\n",
    "#將資料下載到“網路爬蟲實戰研習馬拉松_data”\n",
    "urlretrieve(\"https://www.w3.org/TR/PNG/iso_8859-1.txt\",\"./網路爬蟲實戰研習馬拉松_data/2.txt\")"
   ]
  },
  {
   "cell_type": "code",
   "execution_count": 3,
   "metadata": {},
   "outputs": [
    {
     "name": "stdout",
     "output_type": "stream",
     "text": [
      "/Users/VicChen\n"
     ]
    }
   ],
   "source": [
    "#check 當前位置\n",
    "import os \n",
    "print(os.getcwd())"
   ]
  },
  {
   "cell_type": "code",
   "execution_count": 4,
   "metadata": {},
   "outputs": [
    {
     "name": "stdout",
     "output_type": "stream",
     "text": [
      "dog.jpg\n",
      ".Rhistory\n",
      ".Tableau\n",
      ".config\n",
      "Music\n",
      ".bash_profile-anaconda.bak\n",
      "深度學習與電腦視覺馬拉松_D2.ipynb\n",
      ".condarc\n",
      "lena.png\n",
      "untitled0.py\n",
      "Untitled1.ipynb\n",
      "example-with.txt\n",
      ".DS_Store\n",
      ".httr-oauth\n",
      "JDownloader 2.0\n",
      ".CFUserTextEncoding\n",
      ".hgignore_global\n",
      "wekafiles\n",
      "bin\n",
      ".QtWebEngineProcess\n",
      ".subversion\n",
      "Untitled.ipynb\n",
      "深度學習與電腦視覺馬拉松_D3.ipynb\n",
      ".plotly\n",
      ".local\n",
      "straw_hat_df.csv\n",
      "Pictures\n",
      "深度學習與電腦視覺馬拉松_D1.ipynb\n",
      ".rnd\n",
      "Untitled2.ipynb\n",
      ".ipython\n",
      "Desktop\n",
      "Library\n",
      "網路爬蟲實戰研習馬拉松_D1.ipynb\n",
      ".matplotlib\n",
      "test.py\n",
      ".oracle_jre_usage\n",
      ".spyder-py3\n",
      ".gitignore_global\n",
      ".bash_sessions\n",
      "Public\n",
      "straw_hat_df\n",
      ".bash_profile-anaconda3.bak\n",
      "SqlViewerHistory.props\n",
      ".gitignore\n",
      ".idlerc\n",
      "example2.csv\n",
      "MEGA\n",
      ".anaconda\n",
      "Movies\n",
      "Applications\n",
      "lib\n",
      "example.txt\n",
      "ML Lecture 1 _ Regression _ Demo _ 李宏毅.ipynb\n",
      ".Rapp.history\n",
      "1.txt\n",
      "opt\n",
      ".Trash\n",
      ".gitflow_export\n",
      ".ipynb_checkpoints\n",
      "MEGAsync Downloads\n",
      ".jupyter\n",
      ".keras\n",
      "Documents\n",
      ".rstudio-desktop\n",
      ".mysql_history\n",
      "Vectorization 向量化的重要.ipynb\n",
      ".spss\n",
      ".bash_profile\n",
      "weka.log\n",
      ".Xauthority\n",
      "Downloads\n",
      ".python_history\n",
      ".continuum\n",
      ".cache\n",
      ".gitconfig\n",
      ".bash_history\n",
      "python-seaborne & bokeh用法.ipynb\n",
      "網路爬蟲實戰研習馬拉松_data\n",
      ".conda\n"
     ]
    }
   ],
   "source": [
    "import sys\n",
    "\n",
    "#打開文件 （預設位置會是跟 .ipynb程式相同的目錄）\n",
    "dirs=os.listdir('./')\n",
    "\n",
    "#顯示所有文件\n",
    "for file in dirs:\n",
    "    print(file)"
   ]
  },
  {
   "cell_type": "markdown",
   "metadata": {},
   "source": [
    "# 利用Python存取檔案"
   ]
  },
  {
   "cell_type": "code",
   "execution_count": 5,
   "metadata": {},
   "outputs": [
    {
     "name": "stdout",
     "output_type": "stream",
     "text": [
      "47\n"
     ]
    }
   ],
   "source": [
    "fh=open(\"example.txt\",\"w\")\n",
    "f=fh.write(\"To write or not to write\\nthat is the question!\\n\")\n",
    "fh.close()\n",
    "\n",
    "print(f)"
   ]
  },
  {
   "cell_type": "markdown",
   "metadata": {},
   "source": [
    "> fh.write:return 字串長度   \n",
    "Signature: fh.write(text, /)  \n",
    "Docstring:   \n",
    "Write string to stream.\n",
    "Returns the number of characters written (which is always equal to\n",
    "the length of the string).   \n",
    "Type:      builtin_function_or_method"
   ]
  },
  {
   "cell_type": "code",
   "execution_count": 6,
   "metadata": {},
   "outputs": [
    {
     "name": "stdout",
     "output_type": "stream",
     "text": [
      "To write or not to write\n",
      "that is the question!\n",
      "\n"
     ]
    }
   ],
   "source": [
    "fh=open(\"example.txt\",\"r\")\n",
    "f=fh.read()\n",
    "fh.close()\n",
    "\n",
    "print(f)"
   ]
  },
  {
   "cell_type": "code",
   "execution_count": 7,
   "metadata": {},
   "outputs": [
    {
     "name": "stdout",
     "output_type": "stream",
     "text": [
      "47\n",
      "To write or not to write\n",
      "that is the question!\n",
      "\n"
     ]
    }
   ],
   "source": [
    "#用 with open 寫法\n",
    "\n",
    "with open(\"example-with.txt\",\"w\") as fh:\n",
    "    f=fh.write(\"To write or not to write\\nthat is the question!\\n\")\n",
    "    print(f)\n",
    "\n",
    "with open(\"example-with.txt\",\"r\") as fh:\n",
    "    f=fh.read()\n",
    "    print(f)"
   ]
  },
  {
   "cell_type": "markdown",
   "metadata": {},
   "source": [
    "# 編碼判讀"
   ]
  },
  {
   "cell_type": "code",
   "execution_count": 8,
   "metadata": {},
   "outputs": [
    {
     "name": "stdout",
     "output_type": "stream",
     "text": [
      "{'encoding': 'ascii', 'confidence': 1.0, 'language': ''}\n"
     ]
    }
   ],
   "source": [
    "import chardet\n",
    "\n",
    "with open(\"example.txt\",\"rb\") as f:\n",
    "    data=f.read()\n",
    "    print(chardet.detect(data))"
   ]
  },
  {
   "cell_type": "code",
   "execution_count": 9,
   "metadata": {},
   "outputs": [
    {
     "name": "stdout",
     "output_type": "stream",
     "text": [
      "{'encoding': 'ascii', 'confidence': 1.0, 'language': ''}\n"
     ]
    }
   ],
   "source": [
    "with open(\"example2.csv\",\"rb\") as f:\n",
    "    data=f.read()\n",
    "    print(chardet.detect(data))"
   ]
  },
  {
   "cell_type": "markdown",
   "metadata": {},
   "source": [
    "# 作業目標\n",
    "1. （簡答題）檔案、API、爬蟲三種取得資料方式有什麼不同？\n",
    "2. （實作）完成一個程式，需滿足下列需求：\n",
    "    下載指定檔案到 Data 資料夾，存成檔名 Homework.txt\n",
    "    檢查 Data 資料夾是否有 Homework.txt 檔名之檔案\n",
    "    將「Hello World」字串覆寫到 Homework.txt 檔案\n",
    "    檢查 Homework.txt 檔案字數是否符合 Hello World 字數"
   ]
  },
  {
   "cell_type": "markdown",
   "metadata": {},
   "source": [
    "## 1. 檔案\n",
    "### 資料會包成檔案提供下載，格式可能包含常用的標準格式，如CSV、JSON\n",
    "\n",
    "## 2. API\n",
    "### 提供程式化的連接接口，選擇資料中要讀取的特定部分，而不需要把整批資料事先完整下載回來\n",
    "\n",
    "## 3. 爬蟲\n",
    "### 資料沒有以檔案或API提供，但出現在網頁上。可以用爬蟲程式，將網頁的資料解析需要的部分"
   ]
  },
  {
   "cell_type": "code",
   "execution_count": 10,
   "metadata": {},
   "outputs": [],
   "source": [
    "# 根據需求引入正確的 Library\n",
    "\n",
    "from urllib.request import urlretrieve\n",
    "import os"
   ]
  },
  {
   "cell_type": "code",
   "execution_count": 11,
   "metadata": {},
   "outputs": [],
   "source": [
    "# 下載檔案到 Data 資料夾，存成檔名 Homework.txt\n",
    "\n",
    "try:\n",
    "    os.makedirs( './Data', exist_ok=True )\n",
    "    urlretrieve(\"https://www.w3.org/TR/PNG/iso_8859-1.txt\",\"./Data/Homework.txt\")\n",
    "except:\n",
    "    print('發生錯誤！')"
   ]
  },
  {
   "cell_type": "code",
   "execution_count": 14,
   "metadata": {},
   "outputs": [
    {
     "name": "stdout",
     "output_type": "stream",
     "text": [
      "[O] 檢查 Data 資料夾是否有 Homework.txt 檔名之檔案\n"
     ]
    }
   ],
   "source": [
    "# 檢查 Data 資料夾是否有 Homework.txt 檔名之檔案\n",
    "\n",
    "files = []\n",
    "\n",
    "files=os.listdir(\"./Data\")\n",
    "\n",
    "if 'Homework.txt' in files:\n",
    "    print('[O] 檢查 Data 資料夾是否有 Homework.txt 檔名之檔案')\n",
    "else:\n",
    "    print('[X] 檢查 Data 資料夾是否有 Homework.txt 檔名之檔案')"
   ]
  },
  {
   "cell_type": "code",
   "execution_count": 15,
   "metadata": {},
   "outputs": [
    {
     "name": "stdout",
     "output_type": "stream",
     "text": [
      "Hello World\n"
     ]
    }
   ],
   "source": [
    "# 將「Hello World」字串覆寫到 Homework.txt 檔案\n",
    "\n",
    "f = 'Hello World'\n",
    "\n",
    "with open(\"./Data/Homework.txt\", \"w\") as fh:\n",
    "    fh.write(f)\n",
    "\n",
    "try:\n",
    "    with open(\"./Data/Homework.txt\", \"r\") as fh:\n",
    "        print(fh.read())\n",
    "except EnvironmentError: # parent of IOError, OSError *and* WindowsError where available\n",
    "    pass    "
   ]
  },
  {
   "cell_type": "code",
   "execution_count": 16,
   "metadata": {},
   "outputs": [
    {
     "name": "stdout",
     "output_type": "stream",
     "text": [
      "[O] 檢查 Homework.txt 檔案字數是否符合 Hello World 字數\n"
     ]
    }
   ],
   "source": [
    "# 檢查 Homework.txt 檔案字數是否符合 Hello World 字數\n",
    "\n",
    "if len('Hello World') == len(f):\n",
    "    print('[O] 檢查 Homework.txt 檔案字數是否符合 Hello World 字數')\n",
    "else:\n",
    "    print('[X] 檢查 Homework.txt 檔案字數是否符合 Hello World 字數')"
   ]
  },
  {
   "cell_type": "code",
   "execution_count": null,
   "metadata": {},
   "outputs": [],
   "source": []
  }
 ],
 "metadata": {
  "kernelspec": {
   "display_name": "Python 3",
   "language": "python",
   "name": "python3"
  },
  "language_info": {
   "codemirror_mode": {
    "name": "ipython",
    "version": 3
   },
   "file_extension": ".py",
   "mimetype": "text/x-python",
   "name": "python",
   "nbconvert_exporter": "python",
   "pygments_lexer": "ipython3",
   "version": "3.7.4"
  }
 },
 "nbformat": 4,
 "nbformat_minor": 2
}
